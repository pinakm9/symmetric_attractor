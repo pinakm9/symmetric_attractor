{
 "cells": [
  {
   "cell_type": "code",
   "execution_count": 1,
   "id": "concrete-search",
   "metadata": {},
   "outputs": [
    {
     "name": "stdout",
     "output_type": "stream",
     "text": [
      "C:\\Users\\pinak\\Documents\\GitHub\\symmertic_attractor\n"
     ]
    }
   ],
   "source": [
    "import tensorflow as tf \n",
    "import numpy as np \n",
    "import sys\n",
    "from pathlib import Path\n",
    "from os.path import dirname, abspath\n",
    "script_dir = Path(dirname(abspath('')))\n",
    "module_dir = str(script_dir)\n",
    "sys.path.insert(0, module_dir + '/modules')\n",
    "sys.path.insert(0, module_dir + '/models')\n",
    "print(module_dir)\n",
    "import sde_evolve as se\n",
    "import drift\n",
    "import sim"
   ]
  },
  {
   "cell_type": "code",
   "execution_count": 14,
   "id": "blank-mustang",
   "metadata": {},
   "outputs": [
    {
     "name": "stdout",
     "output_type": "stream",
     "text": [
      "Time taken by propagate is 11.993975639343262 seconds\n",
      "Time taken by set_grid is 4.936173677444458 seconds\n",
      "Time taken by assign_pts is 5.355733633041382 seconds\n",
      "Time taken by ready is 22.2858829498291 seconds\n",
      "Time taken by get_slice_pts is 4.335223197937012 seconds\n",
      "Time taken by slice2D is 4.4908905029296875 seconds\n"
     ]
    }
   ],
   "source": [
    "X0 = np.random.multivariate_normal([0., 0., 0.], np.array([[1., 0., 0.], [0., 1., 0.], [0., 0., 1.]]), 1000000)\n",
    "mc = sim.MCProb(save_folder='../data', n_subdivs=30, mu=drift.mu_np, sigma=0.5, X0=X0)\n",
    "mc.ready(n_steps=50, dt=0.1, lims=None)\n",
    "mc.slice2D(dims=[0, 2], levels={1: 0.})"
   ]
  },
  {
   "cell_type": "code",
   "execution_count": 3,
   "id": "cheap-sally",
   "metadata": {},
   "outputs": [
    {
     "name": "stdout",
     "output_type": "stream",
     "text": [
      "Time taken by get_slice_pts is 4.424594402313232 seconds\n",
      "Time taken by slice2D is 4.592176675796509 seconds\n"
     ]
    }
   ],
   "source": [
    "mc.slice2D(dims=[1, 2], levels={0: 0.})"
   ]
  },
  {
   "cell_type": "code",
   "execution_count": 4,
   "id": "embedded-export",
   "metadata": {},
   "outputs": [
    {
     "name": "stdout",
     "output_type": "stream",
     "text": [
      "Time taken by get_slice_pts is 4.433797836303711 seconds\n",
      "Time taken by slice2D is 4.582354545593262 seconds\n"
     ]
    }
   ],
   "source": [
    "mc.slice2D(dims=[0, 1], levels={2: 0.})"
   ]
  },
  {
   "cell_type": "code",
   "execution_count": 5,
   "id": "better-tucson",
   "metadata": {},
   "outputs": [],
   "source": [
    "X0 = np.random.multivariate_normal([0., 0., 0.], [[1., 0., 0.], [0., 1., 0.], [0., 0., 1.]], 100000)"
   ]
  },
  {
   "cell_type": "code",
   "execution_count": 6,
   "id": "found-cheese",
   "metadata": {},
   "outputs": [
    {
     "name": "stdout",
     "output_type": "stream",
     "text": [
      "[[ 0.41311008  1.74930116  0.94029348]\n",
      " [ 0.07342428  0.94161813 -0.47198109]\n",
      " [-1.18043604 -0.06654274 -0.65104864]\n",
      " ...\n",
      " [-0.42493936 -0.62992098 -1.02032755]\n",
      " [-0.32457681  0.51269831  2.69886703]\n",
      " [ 0.20970109 -1.30931124 -0.03641359]]\n"
     ]
    }
   ],
   "source": [
    "print(X0)"
   ]
  },
  {
   "cell_type": "code",
   "execution_count": null,
   "id": "extra-shannon",
   "metadata": {},
   "outputs": [],
   "source": []
  }
 ],
 "metadata": {
  "kernelspec": {
   "display_name": "Python 3",
   "language": "python",
   "name": "python3"
  },
  "language_info": {
   "codemirror_mode": {
    "name": "ipython",
    "version": 3
   },
   "file_extension": ".py",
   "mimetype": "text/x-python",
   "name": "python",
   "nbconvert_exporter": "python",
   "pygments_lexer": "ipython3",
   "version": "3.8.3"
  }
 },
 "nbformat": 4,
 "nbformat_minor": 5
}
