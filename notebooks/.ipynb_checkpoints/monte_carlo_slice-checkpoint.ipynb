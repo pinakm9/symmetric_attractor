{
 "cells": [
  {
   "cell_type": "code",
   "execution_count": 1,
   "id": "concrete-search",
   "metadata": {},
   "outputs": [
    {
     "name": "stdout",
     "output_type": "stream",
     "text": [
      "C:\\Users\\pinak\\Documents\\GitHub\\symmertic_attractor\n"
     ]
    }
   ],
   "source": [
    "import tensorflow as tf \n",
    "import numpy as np \n",
    "import sys\n",
    "from pathlib import Path\n",
    "from os.path import dirname, abspath\n",
    "script_dir = Path(dirname(abspath('')))\n",
    "module_dir = str(script_dir)\n",
    "sys.path.insert(0, module_dir + '/modules')\n",
    "sys.path.insert(0, module_dir + '/models')\n",
    "print(module_dir)\n",
    "import sde_evolve as se\n",
    "import drift\n",
    "import sim"
   ]
  },
  {
   "cell_type": "code",
   "execution_count": 8,
   "id": "blank-mustang",
   "metadata": {},
   "outputs": [
    {
     "name": "stdout",
     "output_type": "stream",
     "text": [
      "Time taken by propagate is 12.529462099075317 seconds\n",
      "Time taken by set_grid is 4.996396541595459 seconds\n",
      "Time taken by assign_pts is 5.3910393714904785 seconds\n",
      "Time taken by ready is 22.917418241500854 seconds\n",
      "Time taken by get_slice_pts is 4.389767169952393 seconds\n",
      "Time taken by slice2D is 4.651606321334839 seconds\n"
     ]
    }
   ],
   "source": [
    "X0 = np.random.multivariate_normal([0., 0., 0.], [[1., 0., 0.], [0., 1., 0.], [0., 0., 1.]]/100., 1000000)\n",
    "mc = sim.MCProb(save_folder='../data', n_subdivs=30, mu=drift.mu_np, sigma=0.01, X0=X0)\n",
    "mc.ready(n_steps=50, dt=0.1, lims=None)\n",
    "mc.slice2D(dims=[0, 2], levels={1: 0.})"
   ]
  },
  {
   "cell_type": "code",
   "execution_count": 3,
   "id": "cheap-sally",
   "metadata": {},
   "outputs": [
    {
     "name": "stdout",
     "output_type": "stream",
     "text": [
      "Time taken by get_slice_pts is 4.415979623794556 seconds\n",
      "Time taken by slice2D is 4.657204866409302 seconds\n"
     ]
    }
   ],
   "source": [
    "mc.slice2D(dims=[1, 2], levels={0: 0.})"
   ]
  },
  {
   "cell_type": "code",
   "execution_count": 4,
   "id": "conditional-perception",
   "metadata": {},
   "outputs": [
    {
     "name": "stdout",
     "output_type": "stream",
     "text": [
      "Time taken by get_slice_pts is 4.421836614608765 seconds\n",
      "Time taken by slice2D is 4.667463302612305 seconds\n"
     ]
    }
   ],
   "source": [
    "mc.slice2D(dims=[0, 1], levels={2: 0.})"
   ]
  },
  {
   "cell_type": "code",
   "execution_count": 5,
   "id": "cosmetic-scottish",
   "metadata": {},
   "outputs": [],
   "source": [
    "X0 = np.random.multivariate_normal([0., 0., 0.], [[1., 0., 0.], [0., 1., 0.], [0., 0., 1.]], 100000)"
   ]
  },
  {
   "cell_type": "code",
   "execution_count": 6,
   "id": "color-topic",
   "metadata": {},
   "outputs": [
    {
     "name": "stdout",
     "output_type": "stream",
     "text": [
      "[[ 0.43824166 -0.29704575  0.15495293]\n",
      " [ 0.26681032 -0.19452726 -3.15927965]\n",
      " [-1.31745912  0.96770313  1.31244393]\n",
      " ...\n",
      " [ 1.06951937 -0.72228832 -0.38950016]\n",
      " [ 1.24151822 -0.60668847  0.15490584]\n",
      " [-0.01631808  0.56606414 -0.5168683 ]]\n"
     ]
    }
   ],
   "source": [
    "print(X0)"
   ]
  },
  {
   "cell_type": "code",
   "execution_count": null,
   "id": "precise-discipline",
   "metadata": {},
   "outputs": [],
   "source": []
  }
 ],
 "metadata": {
  "kernelspec": {
   "display_name": "Python 3",
   "language": "python",
   "name": "python3"
  },
  "language_info": {
   "codemirror_mode": {
    "name": "ipython",
    "version": 3
   },
   "file_extension": ".py",
   "mimetype": "text/x-python",
   "name": "python",
   "nbconvert_exporter": "python",
   "pygments_lexer": "ipython3",
   "version": "3.8.3"
  }
 },
 "nbformat": 4,
 "nbformat_minor": 5
}
